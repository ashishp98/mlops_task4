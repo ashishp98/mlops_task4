{
 "cells": [
  {
   "cell_type": "code",
   "execution_count": 13,
   "id": "advanced-domestic",
   "metadata": {},
   "outputs": [],
   "source": [
    "import cv2\n",
    "import numpy as np\n",
    "import random\n",
    "import matplotlib.pyplot as plt"
   ]
  },
  {
   "cell_type": "code",
   "execution_count": 14,
   "id": "korean-buffer",
   "metadata": {},
   "outputs": [
    {
     "name": "stdout",
     "output_type": "stream",
     "text": [
      "3\n"
     ]
    }
   ],
   "source": [
    "print(random.randint(0,9))"
   ]
  },
  {
   "cell_type": "code",
   "execution_count": 15,
   "id": "seeing-serve",
   "metadata": {},
   "outputs": [
    {
     "name": "stdout",
     "output_type": "stream",
     "text": [
      "Enter the size of the image: 1000 600\n",
      "1000\n",
      "600\n"
     ]
    }
   ],
   "source": [
    "rows, columns = input(\"Enter the size of the image: \").split()\n",
    "rows = int(rows)\n",
    "columns = int(columns)\n",
    "print(rows)\n",
    "print(columns)"
   ]
  },
  {
   "cell_type": "code",
   "execution_count": 16,
   "id": "municipal-mechanism",
   "metadata": {},
   "outputs": [
    {
     "name": "stdout",
     "output_type": "stream",
     "text": [
      "[[[205.   4. 170.]\n",
      "  [121.  55.  37.]\n",
      "  [ 86.  31. 191.]\n",
      "  ...\n",
      "  [  9. 172.  66.]\n",
      "  [ 50.  83. 228.]\n",
      "  [108. 194. 130.]]\n",
      "\n",
      " [[ 68.  40. 121.]\n",
      "  [ 41.  41. 133.]\n",
      "  [205.  91. 212.]\n",
      "  ...\n",
      "  [127. 175. 132.]\n",
      "  [249. 100. 252.]\n",
      "  [233.  24. 216.]]\n",
      "\n",
      " [[ 97.  76.  19.]\n",
      "  [  2.  70. 134.]\n",
      "  [161.  17.  18.]\n",
      "  ...\n",
      "  [ 88. 184.  50.]\n",
      "  [150. 212.  27.]\n",
      "  [ 12.  11.  23.]]\n",
      "\n",
      " ...\n",
      "\n",
      " [[228.  69. 213.]\n",
      "  [ 21. 223. 188.]\n",
      "  [ 79.  67.  45.]\n",
      "  ...\n",
      "  [220. 133.  19.]\n",
      "  [  6.  18. 189.]\n",
      "  [ 25. 113. 222.]]\n",
      "\n",
      " [[ 67. 250. 200.]\n",
      "  [170. 131. 194.]\n",
      "  [ 42. 158. 178.]\n",
      "  ...\n",
      "  [145. 214. 241.]\n",
      "  [ 99. 227. 177.]\n",
      "  [ 74. 201. 134.]]\n",
      "\n",
      " [[ 59.  22.  50.]\n",
      "  [222. 142.  12.]\n",
      "  [178. 105. 226.]\n",
      "  ...\n",
      "  [ 43. 147. 219.]\n",
      "  [ 11.  55. 204.]\n",
      "  [159. 225. 223.]]]\n",
      "<class 'numpy.ndarray'>\n"
     ]
    }
   ],
   "source": [
    "self_created_image = np.random.randint(0, 255, (columns, rows, 3))\n",
    "self_created_image = self_created_image.astype(float)\n",
    "print(self_created_image)\n",
    "print(type(self_created_image))"
   ]
  },
  {
   "cell_type": "code",
   "execution_count": 17,
   "id": "typical-bishop",
   "metadata": {},
   "outputs": [
    {
     "data": {
      "text/plain": [
       "(600, 1000, 3)"
      ]
     },
     "execution_count": 17,
     "metadata": {},
     "output_type": "execute_result"
    }
   ],
   "source": [
    "self_created_image.shape"
   ]
  },
  {
   "cell_type": "code",
   "execution_count": 18,
   "id": "modular-pregnancy",
   "metadata": {},
   "outputs": [],
   "source": [
    "cv2.imshow(\"SELF CREATED IMAGE\", self_created_image)\n",
    "cv2.waitKey(0) == 13\n",
    "cv2.destroyAllWindows()"
   ]
  },
  {
   "cell_type": "code",
   "execution_count": 19,
   "id": "joined-jumping",
   "metadata": {},
   "outputs": [
    {
     "data": {
      "text/plain": [
       "True"
      ]
     },
     "execution_count": 19,
     "metadata": {},
     "output_type": "execute_result"
    }
   ],
   "source": [
    "cv2.imwrite(\"SelfCreatedImage.jpg\",self_created_image)"
   ]
  },
  {
   "cell_type": "code",
   "execution_count": null,
   "id": "exempt-radius",
   "metadata": {},
   "outputs": [],
   "source": []
  }
 ],
 "metadata": {
  "kernelspec": {
   "display_name": "Python 3",
   "language": "python",
   "name": "python3"
  },
  "language_info": {
   "codemirror_mode": {
    "name": "ipython",
    "version": 3
   },
   "file_extension": ".py",
   "mimetype": "text/x-python",
   "name": "python",
   "nbconvert_exporter": "python",
   "pygments_lexer": "ipython3",
   "version": "3.8.5"
  }
 },
 "nbformat": 4,
 "nbformat_minor": 5
}
